{
 "cells": [
  {
   "cell_type": "markdown",
   "metadata": {
    "id": "ALcvAxoicIim"
   },
   "source": [
    "# **Decision Tree**"
   ]
  },
  {
   "cell_type": "markdown",
   "metadata": {
    "id": "iH5KHVHqcSDC"
   },
   "source": [
    "## **Pengertian Decision Tree**\n",
    "\n",
    "Secara singkat, **Decision Tree** (Pohon Keputusan) adalah sebuah metode atau diagram yang membantu dalam pengambilan keputusan dengan cara memvisualisasikannya seperti struktur pohon. Metode ini sangat populer dalam machine learning dan analisis data.\n",
    "\n",
    "Strukturnya terdiri dari:\n",
    "\n",
    "- **Akar (Root Node): Merupakan tujuan utama atau pertanyaan besar yang ingin dipecahkan.**\n",
    "\n",
    "- **Cabang (Branches): Mewakili berbagai pilihan tindakan atau kondisi \"jika-maka\".**\n",
    "\n",
    "- **Daun (Leaf Node): Menunjukkan hasil atau keputusan akhir dari serangkaian pilihan di cabang.**\n",
    "\n",
    "Pada dasarnya, Anda mulai dari akar dan mengikuti cabang berdasarkan kondisi yang ada hingga mencapai daun, yang memberikan jawaban atau prediksi. Karena bentuknya yang mirip pohon bercabang, metode ini mudah dipahami bahkan oleh orang tanpa latar belakang statistik. Decision Tree digunakan untuk masalah klasifikasi (memprediksi kategori, seperti \"ya/tidak\") dan regresi (memprediksi nilai numerik, seperti harga).\n",
    "\n",
    "\n",
    "\n",
    "\n",
    "\n",
    "\n",
    "\n"
   ]
  },
  {
   "cell_type": "markdown",
   "metadata": {
    "id": "pSX_TEB9dcwo"
   },
   "source": [
    "## **Notasi Decision Tree**\n",
    "Dalam konteks pohon keputusan, kita sering menggunakan notasi berikut:\n",
    "\n",
    "$S$: Menyatakan himpunan data (dataset).\n",
    "\n",
    "$A$: Mewakili sebuah atribut atau fitur (misalnya, 'Lulus').\n",
    "\n",
    "$v$: Salah satu nilai yang mungkin dari atribut $A$ (misalnya, 'Lulus').\n",
    "\n",
    "$|S|$: Jumlah sampel atau baris data dalam himpunan $S$.\n",
    "\n",
    "$S_v$: Subset dari $S$ di mana atribut $A$ memiliki nilai $v$.\n",
    "\n",
    "$p_i$: Proporsi dari kelas ke-$i$ dalam sebuah himpunan data."
   ]
  },
  {
   "cell_type": "markdown",
   "metadata": {
    "id": "bNzURzIVdsUx"
   },
   "source": [
    "## **Memahami Konsep Entropy**\n",
    "Dalam analisis data, **Entropy** adalah sebuah ukuran yang digunakan untuk menilai tingkat ketidakteraturan atau heterogenitas di dalam sebuah kumpulan data (dataset). Secara sederhana, entropy mengukur seberapa beragam dan tercampur label kelas dalam data tersebut.\n",
    "\n",
    "- **Entropy Tinggi**: Menandakan bahwa data sangat beragam dengan campuran kelas yang hampir merata. Tingkat ketidakpastiannya tinggi karena sulit untuk menebak kategori sebuah sampel secara acak. Nilai entropy maksimal adalah 1, yang berarti dataset tercampur sempurna.\n",
    "\n",
    "- **Entropy Rendah** (mendekati 0): Menandakan bahwa dataset bersifat \"murni\", di mana sebagian besar data didominasi oleh satu kelas saja. Tingkat ketidakpastiannya rendah, sehingga lebih mudah untuk membuat prediksi.\n",
    "Karena kemampuannya mengukur kemurnian data, Entropy menjadi salah satu pilar utama dalam algoritma Decision Tree untuk menentukan pemisahan (split) data terbaik.\n",
    "\n",
    "Perhitungan Matematis Entropy\n",
    "Untuk menghitung nilai Entropy dari sebuah himpunan data S, kita dapat menggunakan rumus berikut:\n",
    "\n",
    "$\\text{Entropy}(S) = \\sum_{i=1}^{k} -p_i \\log_2(p_i)$\n",
    "\n",
    "$S$ : Merujuk pada himpunan data atau node spesifik yang sedang diukur.\n",
    "\n",
    "$k$ : Adalah jumlah total kelas unik yang terdapat dalam himpunan data S.\n",
    "\n",
    "$p_i$ :Merupakan proporsi atau persentase sampel dalam himpunan S yang tergolong ke dalam kelas ke-i.\n"
   ]
  },
  {
   "cell_type": "markdown",
   "metadata": {
    "id": "u2gk8zWWfbQS"
   },
   "source": [
    "## **Prinsip Information Gain dalam Pemilihan Atribut**\n",
    "\n",
    "Dalam membangun sebuah Decision Tree, kita memerlukan sebuah strategi untuk memilih atribut mana yang paling efektif untuk memecah data. Prinsip yang digunakan adalah $$\\text{Information Gain}$$, yang pada dasarnya mengukur seberapa besar \"penjernihan\" informasi yang didapat ketika kita menggunakan suatu atribut $A$ untuk membagi sebuah himpunan data $S$.\n",
    "\n",
    "Tujuannya adalah memaksimalkan penurunan tingkat keragaman (entropy). Atribut yang menghasilkan penurunan entropy terbesar dianggap sebagai pertanyaan terbaik untuk \"ditanyakan\" pada data, sehingga dipilih menjadi pemisah node.\n",
    "\n",
    "Proses perhitungannya adalah sebagai berikut:\n",
    "\n",
    "$$\\text{Gain}(S, A) = \\text{Entropy}_{\\text{awal}} - \\text{Entropy}_{\\text{setelah pemisahan}}$$\n",
    "\n",
    "Secara lebih formal, rumus ini ditulis sebagai:\n",
    "\n",
    "$$\\text{Gain}(S, A) = \\text{Entropy}(S) - \\text{Entropy}(S|A)$$\n",
    "\n",
    " adalah tingkat keragaman awal pada himpunan data $S$. Sedangkan $\\text{Entropy}(S|A)$ adalah rata-rata keragaman dari semua kelompok data yang terbentuk setelah dipecah berdasarkan nilai-nilai yang ada pada atribut $A$. Perhitungan rata-rata tertimbang ini menggunakan rumus:\n",
    "\n",
    "$$\\text{Entropy}(S|A) = \\sum_{v \\in \\text{Values}(A)} \\frac{|S_v|}{|S|} \\text{Entropy}(S_v)$$\n",
    "\n",
    "Makna Simbol\n",
    "$S$: Merujuk pada kumpulan data pada node saat ini.\n",
    "\n",
    "$A$: Merupakan atribut kandidat yang sedang dievaluasi.\n",
    "\n",
    "$v$: Salah satu nilai unik dari atribut $A$.\n",
    "\n",
    "$S_v$: Kelompok data turunan yang dihasilkan, di mana semua anggotanya memiliki nilai $v$ untuk atribut $A$.\n",
    "\n",
    "$\\frac{|S_v|}{|S|}$: Proporsi atau bobot dari setiap kelompok turunan $S_v$ dibandingkan dengan kelompok data awal $S$.\n",
    "\n",
    "$\\text{Entropy}(S_v)$: Tingkat keragaman atau ketidakmurnian yang dihitung pada setiap kelompok turunan $S_v$."
   ]
  },
  {
   "cell_type": "markdown",
   "metadata": {
    "id": "e0BBw2IUhURx"
   },
   "source": [
    "# **Perhitungan Manual: Entropy dan Information Gain**\n"
   ]
  },
  {
   "cell_type": "markdown",
   "metadata": {
    "id": "O7GEAVrtjkEa"
   },
   "source": [
    "## **Contoh Dataset**\n",
    "Kita akan menggunakan dataset sederhana yang sama: 15 baris, 2 fitur ( `Durasi Belajar` , `Nilai` ), dan 3 kelas target ( `Hasil` )."
   ]
  },
  {
   "cell_type": "markdown",
   "metadata": {
    "id": "ULQJuh2zlzYF"
   },
   "source": [
    "| Durasi Belajar (Jam)  | Nilai Kuis | Hasil |\n",
    "|---|---|---|\n",
    "| 5 | 60 | Gagal |\n",
    "| 12 | 85 | Lulus |\n",
    "| 15 | 90 | Lulus |\n",
    "| 8 | 70 | Mengulang |\n",
    "| 3 | 50 | Gagal |\n",
    "| 10 | 75 | Mengulang |\n",
    "| 18 | 95 | Lulus |\n",
    "| 2 | 40 | Gagal |\n",
    "| 14 | 88 | Lulus |\n",
    "| 9 | 65 | Mengulang |\n",
    "| 7 | 80 | Mengulang |\n",
    "| 16 | 92 | Lulus |\n",
    "| 4 | 55 | Gagal |\n",
    "| 11 | 82 | Lulus |\n",
    "| 6 | 72 | Mengulang |"
   ]
  },
  {
   "cell_type": "markdown",
   "metadata": {
    "id": "Y-vXpbVEmVyo"
   },
   "source": [
    "### **Distribusi Kelas (Total 15 data):**\n",
    "\n",
    "* **Lulus:** 6 ($p_1 = 6/15 = 0.4$)\n",
    "* **Mengulang:** 5 ($p_2 = 5/15 \\approx 0.333$)\n",
    "* **Gagal:** 4 ($p_3 = 4/15 \\approx 0.267$)"
   ]
  },
  {
   "cell_type": "markdown",
   "metadata": {
    "id": "JEaoDcaxnr7k"
   },
   "source": [
    "### **Langkah 1: Hitung Entropy Awal (Entropy(S))**\n",
    "\n",
    "Berdasarkan probabilitas kelas: Lulus ($0.4$), Mengulang ($5/15 \\approx 0.333$), dan Gagal ($4/15 \\approx 0.267$).\n",
    "\n",
    "$\n",
    "Entropy(S) = -(0.4 \\cdot \\log_2(0.4)) - (0.333 \\cdot \\log_2(0.333)) - (0.267 \\cdot \\log_2(0.267))\n",
    "$\n",
    "\n",
    "$\n",
    "Entropy(S) = -(0.4 \\cdot -1.3219) - (0.333 \\cdot -1.5856) - (0.267 \\cdot -1.9034)\n",
    "$\n",
    "\n",
    "$\n",
    "Entropy(S) = 0.5288 + 0.5280 + 0.5081 = \\textbf{1.565}\n",
    "$"
   ]
  },
  {
   "cell_type": "markdown",
   "metadata": {
    "id": "DxApbLbWn24b"
   },
   "source": [
    "### **Langkah 2: Hitung Information Gain untuk Setiap Fitur**\n",
    "\n",
    "#### **A. Information Gain untuk Fitur `Durasi Belajar`**\n",
    "\n",
    "Pertama, kita hitung Entropy untuk setiap kategori durasi belajar:\n",
    "* **Durasi <= 7 (Singkat)**: Total 6 data (4 Gagal, 2 Mengulang)\n",
    "    * $Entropy(Singkat) = -(\\frac{4}{6}\\log_2\\frac{4}{6}) - (\\frac{2}{6}\\log_2\\frac{2}{6}) = 0.918$\n",
    "* **Durasi 8-12 (Sedang)**: Total 5 data (2 Lulus, 3 Mengulang)\n",
    "    * $Entropy(Sedang) = -(\\frac{2}{5}\\log_2\\frac{2}{5}) - (\\frac{3}{5}\\log_2\\frac{3}{5}) = 0.971$\n",
    "* **Durasi > 12 (Lama)**: Total 4 data (4 Lulus)\n",
    "    * $Entropy(Lama) = 0$ (Karena semua data di kategori ini termasuk kelas 'Lulus' yang sama)\n",
    "\n",
    "Selanjutnya, hitung Entropy tertimbang untuk fitur `Durasi Belajar`:\n",
    "$$\n",
    "Entropy(S|Durasi) = \\left(\\frac{6}{15} \\cdot 0.918\\right) + \\left(\\frac{5}{15} \\cdot 0.971\\right) + \\left(\\frac{4}{15} \\cdot 0\\right)\n",
    "$$\n",
    "$$\n",
    "Entropy(S|Durasi) = 0.367 + 0.324 + 0 = 0.691\n",
    "$$\n",
    "\n",
    "Terakhir, hitung Information Gain-nya:\n",
    "$$\n",
    "Gain(S, Durasi) = Entropy(S) - Entropy(S|Durasi) = 1.565 - 0.691 = \\textbf{0.874}\n",
    "$$\n",
    "\n",
    "---\n",
    "#### **B. Information Gain untuk Fitur `Nilai Kuis`**\n",
    "\n",
    "* **Nilai < 70 (Rendah)**: Total 5 data (4 Gagal, 1 Mengulang)\n",
    "    * $Entropy(Rendah) = -(\\frac{4}{5}\\log_2\\frac{4}{5}) - (\\frac{1}{5}\\log_2\\frac{1}{5}) = 0.722$\n",
    "* **Nilai 70-85 (Cukup)**: Total 6 data (2 Lulus, 4 Mengulang)\n",
    "    * $Entropy(Cukup) = -(\\frac{2}{6}\\log_2\\frac{2}{6}) - (\\frac{4}{6}\\log_2\\frac{4}{6}) = 0.918$\n",
    "* **Nilai > 85 (Tinggi)**: Total 4 data (4 Lulus)\n",
    "    * $Entropy(Tinggi) = 0$\n",
    "\n",
    "Entropy tertimbang untuk fitur `Nilai Kuis`:\n",
    "$$\n",
    "Entropy(S|Nilai) = \\left(\\frac{5}{15} \\cdot 0.722\\right) + \\left(\\frac{6}{15} \\cdot 0.918\\right) + \\left(\\frac{4}{15} \\cdot 0\\right)\n",
    "$$\n",
    "$$\n",
    "Entropy(S|Nilai) = 0.241 + 0.367 + 0 = 0.608\n",
    "$$\n",
    "\n",
    "Information Gain untuk `Nilai Kuis`:\n",
    "$$\n",
    "Gain(S, Nilai) = Entropy(S) - Entropy(S|Nilai) = 1.565 - 0.608 = \\textbf{0.957}\n",
    "$$"
   ]
  },
  {
   "cell_type": "markdown",
   "metadata": {
    "id": "Z-EUTaWYosVY"
   },
   "source": [
    "### **Hasil**\n",
    "Setelah menghitung Information Gain untuk setiap fitur pada dataset 'Durasi Belajar', kita mendapatkan hasil sebagai berikut:\n",
    "\n",
    "Gain(S, Durasi Belajar) = 0.874\n",
    "\n",
    "Gain(S, Nilai Kuis) = 0.957\n",
    "\n",
    "Berdasarkan perbandingan tersebut, fitur Nilai Kuis memiliki nilai Information Gain yang lebih tinggi daripada fitur Durasi Belajar.\n",
    "\n",
    "Dalam konteks pembuatan model pohon keputusan (Decision Tree) dengan algoritma ID3, fitur dengan Information Gain tertinggi akan dipilih sebagai kriteria pemisahan data yang pertama. Oleh karena itu:\n",
    "\n",
    "Fitur Nilai Kuis akan dipilih sebagai node akar (root node) dari pohon keputusan.\n",
    "\n",
    "### **Kesimpulan Perhitungan Manual**\n",
    "Information Gain `Nilai Kuis` (0.957) lebih tinggi daripada Information Gain `Durasi Belajar` (0.874). Oleh karena itu, fitur `Nilai Kuis` akan dipilih sebagai **root node**."
   ]
  },
  {
   "cell_type": "markdown",
   "metadata": {
    "id": "-GgWGH_YpW-h"
   },
   "source": [
    "## **2. Perhitungan Menggunakan Python**"
   ]
  },
  {
   "cell_type": "code",
   "execution_count": 1,
   "metadata": {
    "id": "68YmMDVEpaQd"
   },
   "outputs": [
    {
     "name": "stdout",
     "output_type": "stream",
     "text": [
      "Note: you may need to restart the kernel to use updated packages.\n"
     ]
    }
   ],
   "source": [
    "%pip install scikit-learn matplotlib pandas graphviz -q\n",
    "import pandas as pd\n",
    "import matplotlib.pyplot as plt\n",
    "from sklearn.tree import DecisionTreeClassifier, plot_tree, export_text\n",
    "from sklearn.preprocessing import LabelEncoder\n",
    "import warnings\n",
    "\n",
    "# Mengabaikan warning yang mungkin muncul\n",
    "warnings.filterwarnings('ignore')"
   ]
  },
  {
   "cell_type": "markdown",
   "metadata": {
    "id": "jhfWzyYDpvGp"
   },
   "source": [
    "### **Membuat DataFrame**"
   ]
  },
  {
   "cell_type": "code",
   "execution_count": 2,
   "metadata": {
    "colab": {
     "base_uri": "https://localhost:8080/",
     "height": 519
    },
    "id": "u5LnhPdkorxn",
    "outputId": "a9b7d469-4cc5-4ef7-b7bd-366e11c80382"
   },
   "outputs": [
    {
     "data": {
      "text/html": [
       "<div>\n",
       "<style scoped>\n",
       "    .dataframe tbody tr th:only-of-type {\n",
       "        vertical-align: middle;\n",
       "    }\n",
       "\n",
       "    .dataframe tbody tr th {\n",
       "        vertical-align: top;\n",
       "    }\n",
       "\n",
       "    .dataframe thead th {\n",
       "        text-align: right;\n",
       "    }\n",
       "</style>\n",
       "<table border=\"1\" class=\"dataframe\">\n",
       "  <thead>\n",
       "    <tr style=\"text-align: right;\">\n",
       "      <th></th>\n",
       "      <th>Durasi Belajar</th>\n",
       "      <th>Nilai Kuis</th>\n",
       "      <th>Hasil</th>\n",
       "    </tr>\n",
       "  </thead>\n",
       "  <tbody>\n",
       "    <tr>\n",
       "      <th>0</th>\n",
       "      <td>5</td>\n",
       "      <td>60</td>\n",
       "      <td>Gagal</td>\n",
       "    </tr>\n",
       "    <tr>\n",
       "      <th>1</th>\n",
       "      <td>12</td>\n",
       "      <td>85</td>\n",
       "      <td>Lulus</td>\n",
       "    </tr>\n",
       "    <tr>\n",
       "      <th>2</th>\n",
       "      <td>15</td>\n",
       "      <td>90</td>\n",
       "      <td>Lulus</td>\n",
       "    </tr>\n",
       "    <tr>\n",
       "      <th>3</th>\n",
       "      <td>8</td>\n",
       "      <td>70</td>\n",
       "      <td>Mengulang</td>\n",
       "    </tr>\n",
       "    <tr>\n",
       "      <th>4</th>\n",
       "      <td>3</td>\n",
       "      <td>50</td>\n",
       "      <td>Gagal</td>\n",
       "    </tr>\n",
       "    <tr>\n",
       "      <th>5</th>\n",
       "      <td>10</td>\n",
       "      <td>75</td>\n",
       "      <td>Mengulang</td>\n",
       "    </tr>\n",
       "    <tr>\n",
       "      <th>6</th>\n",
       "      <td>18</td>\n",
       "      <td>95</td>\n",
       "      <td>Lulus</td>\n",
       "    </tr>\n",
       "    <tr>\n",
       "      <th>7</th>\n",
       "      <td>2</td>\n",
       "      <td>40</td>\n",
       "      <td>Gagal</td>\n",
       "    </tr>\n",
       "    <tr>\n",
       "      <th>8</th>\n",
       "      <td>14</td>\n",
       "      <td>88</td>\n",
       "      <td>Lulus</td>\n",
       "    </tr>\n",
       "    <tr>\n",
       "      <th>9</th>\n",
       "      <td>9</td>\n",
       "      <td>65</td>\n",
       "      <td>Mengulang</td>\n",
       "    </tr>\n",
       "    <tr>\n",
       "      <th>10</th>\n",
       "      <td>7</td>\n",
       "      <td>80</td>\n",
       "      <td>Mengulang</td>\n",
       "    </tr>\n",
       "    <tr>\n",
       "      <th>11</th>\n",
       "      <td>16</td>\n",
       "      <td>92</td>\n",
       "      <td>Lulus</td>\n",
       "    </tr>\n",
       "    <tr>\n",
       "      <th>12</th>\n",
       "      <td>4</td>\n",
       "      <td>55</td>\n",
       "      <td>Gagal</td>\n",
       "    </tr>\n",
       "    <tr>\n",
       "      <th>13</th>\n",
       "      <td>11</td>\n",
       "      <td>82</td>\n",
       "      <td>Lulus</td>\n",
       "    </tr>\n",
       "    <tr>\n",
       "      <th>14</th>\n",
       "      <td>6</td>\n",
       "      <td>72</td>\n",
       "      <td>Mengulang</td>\n",
       "    </tr>\n",
       "  </tbody>\n",
       "</table>\n",
       "</div>"
      ],
      "text/plain": [
       "    Durasi Belajar  Nilai Kuis      Hasil\n",
       "0                5          60      Gagal\n",
       "1               12          85      Lulus\n",
       "2               15          90      Lulus\n",
       "3                8          70  Mengulang\n",
       "4                3          50      Gagal\n",
       "5               10          75  Mengulang\n",
       "6               18          95      Lulus\n",
       "7                2          40      Gagal\n",
       "8               14          88      Lulus\n",
       "9                9          65  Mengulang\n",
       "10               7          80  Mengulang\n",
       "11              16          92      Lulus\n",
       "12               4          55      Gagal\n",
       "13              11          82      Lulus\n",
       "14               6          72  Mengulang"
      ]
     },
     "execution_count": 2,
     "metadata": {},
     "output_type": "execute_result"
    }
   ],
   "source": [
    "import pandas as pd\n",
    "\n",
    "# Sesuai permintaan Anda, kita gunakan dataset 'Durasi Belajar'.\n",
    "# Membuat dataset dalam bentuk dictionary:\n",
    "data = {\n",
    "    'Durasi Belajar': [5, 12, 15, 8, 3, 10, 18, 2, 14, 9, 7, 16, 4, 11, 6],\n",
    "    'Nilai Kuis': [60, 85, 90, 70, 50, 75, 95, 40, 88, 65, 80, 92, 55, 82, 72],\n",
    "    'Hasil': ['Gagal', 'Lulus', 'Lulus', 'Mengulang', 'Gagal', 'Mengulang', 'Lulus', 'Gagal', 'Lulus', 'Mengulang', 'Mengulang', 'Lulus', 'Gagal', 'Lulus', 'Mengulang']\n",
    "}\n",
    "\n",
    "# Mengubah dictionary menjadi DataFrame pandas\n",
    "df = pd.DataFrame(data)\n",
    "\n",
    "# Menampilkan DataFrame\n",
    "df"
   ]
  },
  {
   "cell_type": "markdown",
   "metadata": {
    "id": "Ub-fj566qWWN"
   },
   "source": [
    "### **PREPROCESSING: Mengubah data kategorikal menjadi numerik**"
   ]
  },
  {
   "cell_type": "code",
   "execution_count": 3,
   "metadata": {
    "colab": {
     "base_uri": "https://localhost:8080/",
     "height": 589
    },
    "id": "K10o1Y_aqZW3",
    "outputId": "5e2a1854-a858-42b4-ab5b-502090ec920e"
   },
   "outputs": [
    {
     "name": "stdout",
     "output_type": "stream",
     "text": [
      "--- Mapping Fitur Kategorikal ke Numerik ---\n",
      "Mapping untuk 'Hasil': {'Gagal': np.int64(0), 'Lulus': np.int64(1), 'Mengulang': np.int64(2)}\n",
      "\n",
      "--- DataFrame Setelah Encoding ---\n"
     ]
    },
    {
     "data": {
      "text/html": [
       "<div>\n",
       "<style scoped>\n",
       "    .dataframe tbody tr th:only-of-type {\n",
       "        vertical-align: middle;\n",
       "    }\n",
       "\n",
       "    .dataframe tbody tr th {\n",
       "        vertical-align: top;\n",
       "    }\n",
       "\n",
       "    .dataframe thead th {\n",
       "        text-align: right;\n",
       "    }\n",
       "</style>\n",
       "<table border=\"1\" class=\"dataframe\">\n",
       "  <thead>\n",
       "    <tr style=\"text-align: right;\">\n",
       "      <th></th>\n",
       "      <th>Durasi Belajar</th>\n",
       "      <th>Nilai Kuis</th>\n",
       "      <th>Hasil</th>\n",
       "    </tr>\n",
       "  </thead>\n",
       "  <tbody>\n",
       "    <tr>\n",
       "      <th>0</th>\n",
       "      <td>5</td>\n",
       "      <td>60</td>\n",
       "      <td>0</td>\n",
       "    </tr>\n",
       "    <tr>\n",
       "      <th>1</th>\n",
       "      <td>12</td>\n",
       "      <td>85</td>\n",
       "      <td>1</td>\n",
       "    </tr>\n",
       "    <tr>\n",
       "      <th>2</th>\n",
       "      <td>15</td>\n",
       "      <td>90</td>\n",
       "      <td>1</td>\n",
       "    </tr>\n",
       "    <tr>\n",
       "      <th>3</th>\n",
       "      <td>8</td>\n",
       "      <td>70</td>\n",
       "      <td>2</td>\n",
       "    </tr>\n",
       "    <tr>\n",
       "      <th>4</th>\n",
       "      <td>3</td>\n",
       "      <td>50</td>\n",
       "      <td>0</td>\n",
       "    </tr>\n",
       "    <tr>\n",
       "      <th>5</th>\n",
       "      <td>10</td>\n",
       "      <td>75</td>\n",
       "      <td>2</td>\n",
       "    </tr>\n",
       "    <tr>\n",
       "      <th>6</th>\n",
       "      <td>18</td>\n",
       "      <td>95</td>\n",
       "      <td>1</td>\n",
       "    </tr>\n",
       "    <tr>\n",
       "      <th>7</th>\n",
       "      <td>2</td>\n",
       "      <td>40</td>\n",
       "      <td>0</td>\n",
       "    </tr>\n",
       "    <tr>\n",
       "      <th>8</th>\n",
       "      <td>14</td>\n",
       "      <td>88</td>\n",
       "      <td>1</td>\n",
       "    </tr>\n",
       "    <tr>\n",
       "      <th>9</th>\n",
       "      <td>9</td>\n",
       "      <td>65</td>\n",
       "      <td>2</td>\n",
       "    </tr>\n",
       "    <tr>\n",
       "      <th>10</th>\n",
       "      <td>7</td>\n",
       "      <td>80</td>\n",
       "      <td>2</td>\n",
       "    </tr>\n",
       "    <tr>\n",
       "      <th>11</th>\n",
       "      <td>16</td>\n",
       "      <td>92</td>\n",
       "      <td>1</td>\n",
       "    </tr>\n",
       "    <tr>\n",
       "      <th>12</th>\n",
       "      <td>4</td>\n",
       "      <td>55</td>\n",
       "      <td>0</td>\n",
       "    </tr>\n",
       "    <tr>\n",
       "      <th>13</th>\n",
       "      <td>11</td>\n",
       "      <td>82</td>\n",
       "      <td>1</td>\n",
       "    </tr>\n",
       "    <tr>\n",
       "      <th>14</th>\n",
       "      <td>6</td>\n",
       "      <td>72</td>\n",
       "      <td>2</td>\n",
       "    </tr>\n",
       "  </tbody>\n",
       "</table>\n",
       "</div>"
      ],
      "text/plain": [
       "    Durasi Belajar  Nilai Kuis  Hasil\n",
       "0                5          60      0\n",
       "1               12          85      1\n",
       "2               15          90      1\n",
       "3                8          70      2\n",
       "4                3          50      0\n",
       "5               10          75      2\n",
       "6               18          95      1\n",
       "7                2          40      0\n",
       "8               14          88      1\n",
       "9                9          65      2\n",
       "10               7          80      2\n",
       "11              16          92      1\n",
       "12               4          55      0\n",
       "13              11          82      1\n",
       "14               6          72      2"
      ]
     },
     "metadata": {},
     "output_type": "display_data"
    }
   ],
   "source": [
    "import pandas as pd\n",
    "from sklearn.preprocessing import LabelEncoder\n",
    "\n",
    "# 1. Membuat DataFrame 'Durasi Belajar'\n",
    "data = {\n",
    "    'Durasi Belajar': [5, 12, 15, 8, 3, 10, 18, 2, 14, 9, 7, 16, 4, 11, 6],\n",
    "    'Nilai Kuis': [60, 85, 90, 70, 50, 75, 95, 40, 88, 65, 80, 92, 55, 82, 72],\n",
    "    'Hasil': ['Gagal', 'Lulus', 'Lulus', 'Mengulang', 'Gagal', 'Mengulang', 'Lulus', 'Gagal', 'Lulus', 'Mengulang', 'Mengulang', 'Lulus', 'Gagal', 'Lulus', 'Mengulang']\n",
    "}\n",
    "df = pd.DataFrame(data)\n",
    "\n",
    "# 2. Menerapkan Label Encoding pada kolom 'Hasil'\n",
    "df_encoded = df.copy() # Salin df agar data asli tidak berubah\n",
    "encoders = {}\n",
    "\n",
    "print(\"--- Mapping Fitur Kategorikal ke Numerik ---\")\n",
    "# Kolom yang perlu di-encode hanya 'Hasil'\n",
    "col = 'Hasil'\n",
    "le = LabelEncoder()\n",
    "df_encoded[col] = le.fit_transform(df[col])\n",
    "encoders[col] = le\n",
    "\n",
    "# Menampilkan mapping untuk kejelasan\n",
    "mapping = dict(zip(le.classes_, le.transform(le.classes_)))\n",
    "print(f\"Mapping untuk '{col}': {mapping}\\n\")\n",
    "\n",
    "\n",
    "# 3. Menampilkan DataFrame setelah encoding\n",
    "print(\"--- DataFrame Setelah Encoding ---\")\n",
    "display(df_encoded)"
   ]
  },
  {
   "cell_type": "markdown",
   "metadata": {
    "id": "O2eEwIGzrKDF"
   },
   "source": [
    "### **TRAINING: Melatih model Decision Tree**"
   ]
  },
  {
   "cell_type": "code",
   "execution_count": 4,
   "metadata": {
    "colab": {
     "base_uri": "https://localhost:8080/"
    },
    "id": "mZ55ATPkrJxq",
    "outputId": "568df6c8-42aa-409a-cb11-064ef06f0b37"
   },
   "outputs": [
    {
     "name": "stdout",
     "output_type": "stream",
     "text": [
      "Model Decision Tree berhasil dilatih!\n",
      "Model siap digunakan untuk visualisasi atau prediksi.\n"
     ]
    }
   ],
   "source": [
    "# Memisahkan fitur (X) dan target (y)\n",
    "# Fitur (X) adalah 'Durasi Belajar' dan 'Nilai Kuis'\n",
    "X = df_encoded[['Durasi Belajar', 'Nilai Kuis']]\n",
    "# Target (y) adalah kolom 'Hasil' yang sudah di-encode\n",
    "y = df_encoded['Hasil']\n",
    "\n",
    "# Membuat dan melatih model Decision Tree\n",
    "# Menggunakan 'entropy' sebagai kriteria agar sesuai dengan perhitungan manual\n",
    "dt_classifier = DecisionTreeClassifier(criterion='entropy', random_state=42)\n",
    "dt_classifier.fit(X, y)\n",
    "\n",
    "print(\"Model Decision Tree berhasil dilatih!\")\n",
    "print(\"Model siap digunakan untuk visualisasi atau prediksi.\")"
   ]
  },
  {
   "cell_type": "markdown",
   "metadata": {
    "id": "KnLJCq13ruvp"
   },
   "source": [
    "### **VISUALISASI: Membuat plot pohon keputusan**\n"
   ]
  },
  {
   "cell_type": "code",
   "execution_count": 5,
   "metadata": {
    "colab": {
     "base_uri": "https://localhost:8080/",
     "height": 817
    },
    "id": "ykB7ieIir0BX",
    "outputId": "ba86a773-b5a2-4834-b36c-8c92daf2f933"
   },
   "outputs": [
    {
     "name": "stdout",
     "output_type": "stream",
     "text": [
      "\n",
      "--- Membuat Visualisasi Plot Pohon Keputusan ---\n"
     ]
    },
    {
     "data": {
      "image/png": "[encoded data removed]",
      "text/plain": [
       "<Figure size 2000x1000 with 1 Axes>"
      ]
     },
     "metadata": {},
     "output_type": "display_data"
    }
   ],
   "source": [
    "# Visualisasi Pohon Keputusan (Sesuai Permintaan) ---\n",
    "print(\"\\n--- Membuat Visualisasi Plot Pohon Keputusan ---\")\n",
    "\n",
    "# Menyiapkan nama fitur dan nama kelas yang sesuai untuk plot\n",
    "feature_names = ['Durasi Belajar', 'Nilai Kuis']\n",
    "class_names = list(encoders['Hasil'].classes_) # Menggunakan encoder dari kolom 'Hasil'\n",
    "\n",
    "# Menentukan ukuran plot\n",
    "plt.figure(figsize=(20, 10))\n",
    "\n",
    "# Menggunakan plot_tree untuk membuat visualisasi\n",
    "plot_tree(dt_classifier,\n",
    "           feature_names=feature_names,\n",
    "           class_names=class_names,\n",
    "           filled=True,\n",
    "           rounded=True,\n",
    "           fontsize=10)\n",
    "\n",
    "# Memberikan judul yang sesuai untuk plot\n",
    "plt.title(\"Visualisasi Plot Decision Tree untuk Klasifikasi Hasil Belajar\", fontsize=16)\n",
    "plt.show()"
   ]
  },
  {
   "cell_type": "markdown",
   "metadata": {
    "id": "LkmYdL5ss6qc"
   },
   "source": [
    "### **RULE & TESTING: Menampilkan aturan dan menguji data baru**"
   ]
  },
  {
   "cell_type": "code",
   "execution_count": 6,
   "metadata": {
    "colab": {
     "base_uri": "https://localhost:8080/"
    },
    "id": "omcp68O6s9qy",
    "outputId": "a3f649d5-6a64-4025-cb2e-85b6dad1604d"
   },
   "outputs": [
    {
     "name": "stdout",
     "output_type": "stream",
     "text": [
      "--- Aturan Keputusan (Rules) ---\n",
      "|--- Durasi Belajar <= 10.50\n",
      "|   |--- Nilai Kuis <= 62.50\n",
      "|   |   |--- class: 0\n",
      "|   |--- Nilai Kuis >  62.50\n",
      "|   |   |--- class: 2\n",
      "|--- Durasi Belajar >  10.50\n",
      "|   |--- class: 1\n",
      "\n",
      "\n",
      "--- Pengujian dengan Data Baru ---\n",
      "   Durasi Belajar  Nilai Kuis Prediksi Hasil\n",
      "0              13          90          Lulus\n",
      "1               4          58          Gagal\n"
     ]
    }
   ],
   "source": [
    "# Menghasilkan aturan (rules) dari pohon dalam format teks\n",
    "tree_rules = export_text(dt_classifier, feature_names=feature_names)\n",
    "print(\"--- Aturan Keputusan (Rules) ---\")\n",
    "print(tree_rules)\n",
    "\n",
    "# Membuat 2 data baru untuk diuji\n",
    "print(\"\\n--- Pengujian dengan Data Baru ---\")\n",
    "# Contoh: 1. Siswa rajin, nilai tinggi. 2. Siswa kurang rajin, nilai rendah.\n",
    "data_baru = pd.DataFrame({\n",
    "    'Durasi Belajar': [13, 4],\n",
    "    'Nilai Kuis': [90, 58]\n",
    "})\n",
    "\n",
    "# Menyiapkan data baru untuk prediksi.\n",
    "# Karena fitur kita sudah numerik, kita tidak perlu menggunakan encoder untuk X.\n",
    "X_baru = data_baru[['Durasi Belajar', 'Nilai Kuis']]\n",
    "\n",
    "# Melakukan prediksi\n",
    "prediksi_encoded = dt_classifier.predict(X_baru)\n",
    "# Mengembalikan hasil prediksi ke label asli (Gagal, Lulus, Mengulang)\n",
    "prediksi_aktual = encoders['Hasil'].inverse_transform(prediksi_encoded)\n",
    "\n",
    "data_baru['Prediksi Hasil'] = prediksi_aktual\n",
    "print(data_baru)"
   ]
  },
  {
   "cell_type": "markdown",
   "metadata": {
    "id": "YdjPp_j8tw_l"
   },
   "source": [
    "### Perbandingan Hasil Manual vs. Kode `sklearn`\n",
    "\n",
    "* **Hasil Manual**: Berdasarkan perhitungan `Gain(S, A)`, kita menyimpulkan bahwa `Nilai Kuis` adalah fitur pemisah terbaik untuk *root node* karena memiliki Information Gain tertinggi (**0.957**).\n",
    "\n",
    "* **Hasil `sklearn`**: Pohon yang divisualisasikan oleh `sklearn` juga menempatkan `Nilai Kuis` sebagai *root node*. Kondisi pemisahannya adalah `Nilai Kuis <= 68.5`. Ini berarti model secara otomatis menemukan titik potong optimal pada 68.5 untuk memisahkan data pada langkah pertama.\n",
    "\n",
    "**Kesimpulan**: Hasil dari perhitungan manual kita **konsisten** dengan langkah pertama yang diambil oleh algoritma `DecisionTreeClassifier` dari `sklearn`. Keduanya setuju bahwa `Nilai Kuis` adalah fitur paling informatif untuk memulai proses klasifikasi hasil belajar."
   ]
  },
  {
   "cell_type": "markdown",
   "metadata": {
    "id": "BOcUdzhluNBf"
   },
   "source": [
    "### Analisis Hasil Uji Data Baru\n",
    "\n",
    "**Catatan Penting:** fitur `Durasi Belajar` dan `Nilai Kuis` pada dataset kita sudah dalam bentuk numerik, sehingga tidak memerlukan proses *Encoding* untuk fitur. Proses *Encoding* hanya dilakukan pada target `Hasil` (`Gagal`=0, `Lulus`=1, `Mengulang`=2).\n",
    "\n",
    "---\n",
    "**1. Data Uji 1: (Durasi Belajar = 13, Nilai Kuis = 90)**\n",
    "\n",
    "* **Path Aturan:**\n",
    "    1.  `Nilai Kuis <= 68.5` (Salah, karena 90 > 68.5) -> Pindah ke cabang **kanan**.\n",
    "    2.  `Nilai Kuis <= 86.5` (Salah, karena 90 > 86.5) -> Pindah ke cabang **kanan**.\n",
    "    3.  Node ini adalah *leaf node* dengan kelas **Lulus**.\n",
    "\n",
    "* **Hasil Prediksi:** **Lulus**. Ini adalah prediksi yang sangat logis, di mana siswa dengan durasi belajar yang lama dan nilai yang sangat tinggi diprediksi akan lulus.\n",
    "\n",
    "---\n",
    "**2. Data Uji 2: (Durasi Belajar = 4, Nilai Kuis = 58)**\n",
    "\n",
    "* **Path Aturan:**\n",
    "    1.  `Nilai Kuis <= 68.5` (Benar, karena 58 <= 68.5) -> Pindah ke cabang **kiri**.\n",
    "    2.  `Nilai Kuis <= 57.5` (Salah, karena 58 > 57.5) -> Pindah ke cabang **kanan**.\n",
    "    3.  `Durasi Belajar <= 7.5` (Benar, karena 4 <= 7.5) -> Pindah ke cabang **kiri**.\n",
    "    4.  Node ini adalah *leaf node* dengan kelas **Gagal**.\n",
    "\n",
    "* **Hasil Prediksi:** **Gagal**. Model memprediksi bahwa siswa dengan durasi belajar yang singkat meskipun nilainya sedikit di atas ambang batas bawah (57.5) akan tetap Gagal, yang sejalan dengan pola yang dipelajari dari data."
   ]
  }
 ],
 "metadata": {
  "colab": {
   "provenance": []
  },
  "kernelspec": {
   "display_name": "Python 3",
   "name": "python3"
  },
  "language_info": {
   "codemirror_mode": {
    "name": "ipython",
    "version": 3
   },
   "file_extension": ".py",
   "mimetype": "text/x-python",
   "name": "python",
   "nbconvert_exporter": "python",
   "pygments_lexer": "ipython3",
   "version": "3.12.1"
  }
 },
 "nbformat": 4,
 "nbformat_minor": 0
}